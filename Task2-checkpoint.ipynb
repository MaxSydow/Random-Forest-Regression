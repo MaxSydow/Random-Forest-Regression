{
 "cells": [
  {
   "cell_type": "markdown",
   "metadata": {},
   "source": [
    "# Predicting Bandwidth Usage With Random Forest Regression"
   ]
  },
  {
   "cell_type": "markdown",
   "metadata": {},
   "source": [
    "#### Max Sydow.  WGU, D209 - Data Mining I.  January, 2022."
   ]
  },
  {
   "cell_type": "markdown",
   "metadata": {},
   "source": [
    "# Investigative Question and Goal\n",
    "\n",
    "In general, higher bandwidth subscriptions cost more and therefore bring more revenue for an ISP. The Customer Churn data set contains a field named InternetService, which describes the type of internet service a customer subscribes to and reveals that the provider offers both DSL and Fiber Optic based network options.  A fiber optic network can provide much higher speeds than DSL, but requires more complex infrastructure.  20 years ago bandwidths on the order of 100MBps or even in excess of 1GBps were not very desirable, but today's consumers often require such higher speeds. Holding on to higher bandwidth using customers and even expanding a fiber optic infrastructure footprint is therefore a worthwhile effort.\n",
    "\n",
    "The churn data set provides several fields that describe the types of services a customer subribes to, some information on specific devices they use, demographic data and measures of sentiment regarding customer experience.  All of these fields may be used to give a profile of high bandwidth using customers.  The ability to identify them can be useful to orient marketing and customer service interaction priorities to promote greater retention.  Demographic and characteristic data may be available from other sources for geographic regions beyond the current footprint so that areas of potential network expansion may be better identified.  Is it possible to create such a predictive customer bandwidth usage profile, and if so which fields have the most influence?"
   ]
  },
  {
   "cell_type": "markdown",
   "metadata": {},
   "source": [
    "# Predictive Method"
   ]
  },
  {
   "cell_type": "markdown",
   "metadata": {},
   "source": [
    "Bandwidth usage, as a feature in the Customer Churn ISP data set includes a wide range of continuous numerical values.  A classification model would not be appropriate to make predictions, as such a model indicates the likelihood of an outcome going one way or another.  To make predictions on a continuous outcome a regression model would be more suitable.  Linear regression could be used, but it may turn out that there is not a linear relationship between predictor and target variables.  A decision tree based algorithm can capture non-linear subtleties by learning from rules applied to features.  (Li, 2019).  \n",
    "\n",
    "A tree structure begins with a root node containing the entire sample of training data that splits into child nodes based on a decision made according to an information gain metric.  These child nodes then get split into more child nodes of thier own based on another decision. This process repeats until the final collection of subsets result in a prediction on the target variable.  (Gurucharan, 2020).  Decision trees can be used for either classification or regression, and the number of of subsequent node splits is referred to as tree depth.\n",
    "\n",
    "As the depth of a tree gets larger the size of each node's subsets gets smaller.  If the tree were allowed to continue to the point of irreducible subset size then predictions may become too specific to individual data points, which poses the risk of overfitting.  Two trees applied to the same data may still have differing predictions at the end.  Instead of running several trees with different parameters a collection of randomly composed trees can be computed in a single algorithm called a random forest.  The random forest considers many permutations of subsets that individual trees use, then returns a majority vote of each of the trees' leaves' predictions. \n",
    "\n",
    "The random forest regressor needs to know how many trees to use (\"n_estimators\"), and each tree should have the number of levels specified (\"max_depth\").  These are parameters of the model that can be tuned through cross validation.  Multiple options of these paramaters can be input into a search algorithm to find which ones result in the greatest accuracy.  Some other parameters include, but are not limited to, number of features considered in the split decision (\"max_features\") and the minimum number of samples required in a leaf node (\"min_samples_split\"). (scikit-learn, 2007-2021) "
   ]
  },
  {
   "cell_type": "markdown",
   "metadata": {},
   "source": [
    "### Packages Used"
   ]
  },
  {
   "cell_type": "markdown",
   "metadata": {},
   "source": [
    "The data was processed, modelled and analyzed using Python.  The following packages and libraries were used:\n",
    "\n",
    "__Pandas:__ general dataframe handling\n",
    "\n",
    "__warnings:__ ignore uneccesary warnings that don't affect outcomes of data operations\n",
    "\n",
    "__sklearn__\n",
    "   - model_selection\n",
    "      - train_test_split: split data into training and testing sets\n",
    "      - RandomizedSearchCV: cross validation using random grid elements\n",
    "      \n",
    "   - ensemble\n",
    "      - RandomForestRegressor: create and fit random forest model\n",
    "      \n",
    "   - metrics\n",
    "      - make_scorer: define a specific accuracy score\n",
    "      - mean_squared_error: computes mean squared error in predictions\n",
    "\n",
    "__matplotlib.pyplot:__ plotting and graphics"
   ]
  },
  {
   "cell_type": "markdown",
   "metadata": {},
   "source": [
    "# Data Processing \n",
    "\n",
    "Considering customer and ISP oriented attributes to make predictions of bandwidth usage may add value in different ways.  Scikit-learn's RandomForestClassifier converts the set of predictor variables to a float datatype internally.  Instead of relying on this functionality, categorical variables can be mapped to discrete numbers so that a smaller number of decimal places may lighten the computational load.  Essentially, any continous numerically valued and easily mapped categorical field was chosen for the data sample.  Bandwidth_GB_Year is continuous, the 36 predictor variables are summarised as:\n",
    "\n",
    "Categorical:  Area, Marital, Gender, Techie, Contract, Port_modem, Tablet, InternetService, Phone, Multiple, OnlineSecurity, OnlineBackup, DeviceProtection, TechSupport, StreamingTV, StreamingMovies, PapaerlessBilling, PaymentMethod.\n",
    "\n",
    "Discrete numerical:  Children, Age, Email, Contacts, Yearly_equip_failure, Item1-Item8.\n",
    "\n",
    "Continuous: Tenure, Population, MonthlyCharge, Outage_sec_perweek."
   ]
  },
  {
   "cell_type": "code",
   "execution_count": 14,
   "metadata": {},
   "outputs": [],
   "source": [
    "# read initial data set (same as used in previous courses/projects), store as dataframe\n",
    "import pandas as pd\n",
    "df = pd.read_csv('C:/Users/maxgs/MSDA/D208 Predictive Modeling/churn_clean.csv')"
   ]
  },
  {
   "cell_type": "code",
   "execution_count": 15,
   "metadata": {},
   "outputs": [
    {
     "data": {
      "text/plain": [
       "Index(['CaseOrder', 'Customer_id', 'Interaction', 'UID', 'City', 'State',\n",
       "       'County', 'Zip', 'Lat', 'Lng', 'Population', 'Area', 'TimeZone', 'Job',\n",
       "       'Children', 'Age', 'Income', 'Marital', 'Gender', 'Churn',\n",
       "       'Outage_sec_perweek', 'Email', 'Contacts', 'Yearly_equip_failure',\n",
       "       'Techie', 'Contract', 'Port_modem', 'Tablet', 'InternetService',\n",
       "       'Phone', 'Multiple', 'OnlineSecurity', 'OnlineBackup',\n",
       "       'DeviceProtection', 'TechSupport', 'StreamingTV', 'StreamingMovies',\n",
       "       'PaperlessBilling', 'PaymentMethod', 'Tenure', 'MonthlyCharge',\n",
       "       'Bandwidth_GB_Year', 'Item1', 'Item2', 'Item3', 'Item4', 'Item5',\n",
       "       'Item6', 'Item7', 'Item8'],\n",
       "      dtype='object')"
      ]
     },
     "execution_count": 15,
     "metadata": {},
     "output_type": "execute_result"
    }
   ],
   "source": [
    "# display column names\n",
    "df.columns"
   ]
  },
  {
   "cell_type": "code",
   "execution_count": 16,
   "metadata": {},
   "outputs": [
    {
     "data": {
      "text/html": [
       "<div>\n",
       "<style scoped>\n",
       "    .dataframe tbody tr th:only-of-type {\n",
       "        vertical-align: middle;\n",
       "    }\n",
       "\n",
       "    .dataframe tbody tr th {\n",
       "        vertical-align: top;\n",
       "    }\n",
       "\n",
       "    .dataframe thead th {\n",
       "        text-align: right;\n",
       "    }\n",
       "</style>\n",
       "<table border=\"1\" class=\"dataframe\">\n",
       "  <thead>\n",
       "    <tr style=\"text-align: right;\">\n",
       "      <th></th>\n",
       "      <th>Customer_id</th>\n",
       "      <th>Interaction</th>\n",
       "      <th>UID</th>\n",
       "      <th>City</th>\n",
       "      <th>State</th>\n",
       "      <th>County</th>\n",
       "      <th>Area</th>\n",
       "      <th>TimeZone</th>\n",
       "      <th>Job</th>\n",
       "      <th>Marital</th>\n",
       "      <th>...</th>\n",
       "      <th>Phone</th>\n",
       "      <th>Multiple</th>\n",
       "      <th>OnlineSecurity</th>\n",
       "      <th>OnlineBackup</th>\n",
       "      <th>DeviceProtection</th>\n",
       "      <th>TechSupport</th>\n",
       "      <th>StreamingTV</th>\n",
       "      <th>StreamingMovies</th>\n",
       "      <th>PaperlessBilling</th>\n",
       "      <th>PaymentMethod</th>\n",
       "    </tr>\n",
       "  </thead>\n",
       "  <tbody>\n",
       "    <tr>\n",
       "      <th>0</th>\n",
       "      <td>K409198</td>\n",
       "      <td>aa90260b-4141-4a24-8e36-b04ce1f4f77b</td>\n",
       "      <td>e885b299883d4f9fb18e39c75155d990</td>\n",
       "      <td>Point Baker</td>\n",
       "      <td>AK</td>\n",
       "      <td>Prince of Wales-Hyder</td>\n",
       "      <td>Urban</td>\n",
       "      <td>America/Sitka</td>\n",
       "      <td>Environmental health practitioner</td>\n",
       "      <td>Widowed</td>\n",
       "      <td>...</td>\n",
       "      <td>Yes</td>\n",
       "      <td>No</td>\n",
       "      <td>Yes</td>\n",
       "      <td>Yes</td>\n",
       "      <td>No</td>\n",
       "      <td>No</td>\n",
       "      <td>No</td>\n",
       "      <td>Yes</td>\n",
       "      <td>Yes</td>\n",
       "      <td>Credit Card (automatic)</td>\n",
       "    </tr>\n",
       "    <tr>\n",
       "      <th>1</th>\n",
       "      <td>S120509</td>\n",
       "      <td>fb76459f-c047-4a9d-8af9-e0f7d4ac2524</td>\n",
       "      <td>f2de8bef964785f41a2959829830fb8a</td>\n",
       "      <td>West Branch</td>\n",
       "      <td>MI</td>\n",
       "      <td>Ogemaw</td>\n",
       "      <td>Urban</td>\n",
       "      <td>America/Detroit</td>\n",
       "      <td>Programmer, multimedia</td>\n",
       "      <td>Married</td>\n",
       "      <td>...</td>\n",
       "      <td>Yes</td>\n",
       "      <td>Yes</td>\n",
       "      <td>Yes</td>\n",
       "      <td>No</td>\n",
       "      <td>No</td>\n",
       "      <td>No</td>\n",
       "      <td>Yes</td>\n",
       "      <td>Yes</td>\n",
       "      <td>Yes</td>\n",
       "      <td>Bank Transfer(automatic)</td>\n",
       "    </tr>\n",
       "    <tr>\n",
       "      <th>2</th>\n",
       "      <td>K191035</td>\n",
       "      <td>344d114c-3736-4be5-98f7-c72c281e2d35</td>\n",
       "      <td>f1784cfa9f6d92ae816197eb175d3c71</td>\n",
       "      <td>Yamhill</td>\n",
       "      <td>OR</td>\n",
       "      <td>Yamhill</td>\n",
       "      <td>Urban</td>\n",
       "      <td>America/Los_Angeles</td>\n",
       "      <td>Chief Financial Officer</td>\n",
       "      <td>Widowed</td>\n",
       "      <td>...</td>\n",
       "      <td>Yes</td>\n",
       "      <td>Yes</td>\n",
       "      <td>No</td>\n",
       "      <td>No</td>\n",
       "      <td>No</td>\n",
       "      <td>No</td>\n",
       "      <td>No</td>\n",
       "      <td>Yes</td>\n",
       "      <td>Yes</td>\n",
       "      <td>Credit Card (automatic)</td>\n",
       "    </tr>\n",
       "    <tr>\n",
       "      <th>3</th>\n",
       "      <td>D90850</td>\n",
       "      <td>abfa2b40-2d43-4994-b15a-989b8c79e311</td>\n",
       "      <td>dc8a365077241bb5cd5ccd305136b05e</td>\n",
       "      <td>Del Mar</td>\n",
       "      <td>CA</td>\n",
       "      <td>San Diego</td>\n",
       "      <td>Suburban</td>\n",
       "      <td>America/Los_Angeles</td>\n",
       "      <td>Solicitor</td>\n",
       "      <td>Married</td>\n",
       "      <td>...</td>\n",
       "      <td>Yes</td>\n",
       "      <td>No</td>\n",
       "      <td>Yes</td>\n",
       "      <td>No</td>\n",
       "      <td>No</td>\n",
       "      <td>No</td>\n",
       "      <td>Yes</td>\n",
       "      <td>No</td>\n",
       "      <td>Yes</td>\n",
       "      <td>Mailed Check</td>\n",
       "    </tr>\n",
       "    <tr>\n",
       "      <th>4</th>\n",
       "      <td>K662701</td>\n",
       "      <td>68a861fd-0d20-4e51-a587-8a90407ee574</td>\n",
       "      <td>aabb64a116e83fdc4befc1fbab1663f9</td>\n",
       "      <td>Needville</td>\n",
       "      <td>TX</td>\n",
       "      <td>Fort Bend</td>\n",
       "      <td>Suburban</td>\n",
       "      <td>America/Chicago</td>\n",
       "      <td>Medical illustrator</td>\n",
       "      <td>Separated</td>\n",
       "      <td>...</td>\n",
       "      <td>No</td>\n",
       "      <td>No</td>\n",
       "      <td>No</td>\n",
       "      <td>No</td>\n",
       "      <td>No</td>\n",
       "      <td>Yes</td>\n",
       "      <td>Yes</td>\n",
       "      <td>No</td>\n",
       "      <td>No</td>\n",
       "      <td>Mailed Check</td>\n",
       "    </tr>\n",
       "  </tbody>\n",
       "</table>\n",
       "<p>5 rows × 27 columns</p>\n",
       "</div>"
      ],
      "text/plain": [
       "  Customer_id                           Interaction  \\\n",
       "0     K409198  aa90260b-4141-4a24-8e36-b04ce1f4f77b   \n",
       "1     S120509  fb76459f-c047-4a9d-8af9-e0f7d4ac2524   \n",
       "2     K191035  344d114c-3736-4be5-98f7-c72c281e2d35   \n",
       "3      D90850  abfa2b40-2d43-4994-b15a-989b8c79e311   \n",
       "4     K662701  68a861fd-0d20-4e51-a587-8a90407ee574   \n",
       "\n",
       "                                UID         City State                 County  \\\n",
       "0  e885b299883d4f9fb18e39c75155d990  Point Baker    AK  Prince of Wales-Hyder   \n",
       "1  f2de8bef964785f41a2959829830fb8a  West Branch    MI                 Ogemaw   \n",
       "2  f1784cfa9f6d92ae816197eb175d3c71      Yamhill    OR                Yamhill   \n",
       "3  dc8a365077241bb5cd5ccd305136b05e      Del Mar    CA              San Diego   \n",
       "4  aabb64a116e83fdc4befc1fbab1663f9    Needville    TX              Fort Bend   \n",
       "\n",
       "       Area             TimeZone                                Job  \\\n",
       "0     Urban        America/Sitka  Environmental health practitioner   \n",
       "1     Urban      America/Detroit             Programmer, multimedia   \n",
       "2     Urban  America/Los_Angeles            Chief Financial Officer   \n",
       "3  Suburban  America/Los_Angeles                          Solicitor   \n",
       "4  Suburban      America/Chicago                Medical illustrator   \n",
       "\n",
       "     Marital  ... Phone Multiple OnlineSecurity OnlineBackup DeviceProtection  \\\n",
       "0    Widowed  ...   Yes       No            Yes          Yes               No   \n",
       "1    Married  ...   Yes      Yes            Yes           No               No   \n",
       "2    Widowed  ...   Yes      Yes             No           No               No   \n",
       "3    Married  ...   Yes       No            Yes           No               No   \n",
       "4  Separated  ...    No       No             No           No               No   \n",
       "\n",
       "  TechSupport StreamingTV StreamingMovies PaperlessBilling  \\\n",
       "0          No          No             Yes              Yes   \n",
       "1          No         Yes             Yes              Yes   \n",
       "2          No          No             Yes              Yes   \n",
       "3          No         Yes              No              Yes   \n",
       "4         Yes         Yes              No               No   \n",
       "\n",
       "              PaymentMethod  \n",
       "0   Credit Card (automatic)  \n",
       "1  Bank Transfer(automatic)  \n",
       "2   Credit Card (automatic)  \n",
       "3              Mailed Check  \n",
       "4              Mailed Check  \n",
       "\n",
       "[5 rows x 27 columns]"
      ]
     },
     "execution_count": 16,
     "metadata": {},
     "output_type": "execute_result"
    }
   ],
   "source": [
    "#display categorical columns of entire dataframe\n",
    "obj_df = df.select_dtypes(include=['object']).copy()\n",
    "obj_df.head()"
   ]
  },
  {
   "cell_type": "markdown",
   "metadata": {},
   "source": [
    "\n",
    "\n",
    "The entire data frame can be subsetted to include only the explanatory and target variable columns.  The positions of the columns will be useful for index manipulation.  The target column appears first.\n",
    "\n",
    "\n"
   ]
  },
  {
   "cell_type": "code",
   "execution_count": 17,
   "metadata": {},
   "outputs": [],
   "source": [
    "# subset dataframe for select vars\n",
    "rf_df = df[['Bandwidth_GB_Year', 'Tenure', 'Population', 'Area', \n",
    "       'Children', 'Age', 'Income', 'Marital', 'Gender', \n",
    "       'Outage_sec_perweek', 'Email', 'Contacts', 'Yearly_equip_failure',\n",
    "       'Techie', 'Contract', 'Port_modem', 'Tablet', 'InternetService',\n",
    "       'Phone', 'Multiple', 'OnlineSecurity', 'OnlineBackup',\n",
    "       'DeviceProtection', 'TechSupport', 'StreamingTV', 'StreamingMovies',\n",
    "       'PaperlessBilling', 'PaymentMethod', 'MonthlyCharge',\n",
    "       'Item1', 'Item2', 'Item3', 'Item4', 'Item5',\n",
    "       'Item6', 'Item7', 'Item8']]"
   ]
  },
  {
   "cell_type": "code",
   "execution_count": 18,
   "metadata": {
    "scrolled": true
   },
   "outputs": [
    {
     "data": {
      "text/html": [
       "<div>\n",
       "<style scoped>\n",
       "    .dataframe tbody tr th:only-of-type {\n",
       "        vertical-align: middle;\n",
       "    }\n",
       "\n",
       "    .dataframe tbody tr th {\n",
       "        vertical-align: top;\n",
       "    }\n",
       "\n",
       "    .dataframe thead th {\n",
       "        text-align: right;\n",
       "    }\n",
       "</style>\n",
       "<table border=\"1\" class=\"dataframe\">\n",
       "  <thead>\n",
       "    <tr style=\"text-align: right;\">\n",
       "      <th></th>\n",
       "      <th>Bandwidth_GB_Year</th>\n",
       "      <th>Tenure</th>\n",
       "      <th>Population</th>\n",
       "      <th>Area</th>\n",
       "      <th>Children</th>\n",
       "      <th>Age</th>\n",
       "      <th>Income</th>\n",
       "      <th>Marital</th>\n",
       "      <th>Gender</th>\n",
       "      <th>Outage_sec_perweek</th>\n",
       "      <th>...</th>\n",
       "      <th>PaymentMethod</th>\n",
       "      <th>MonthlyCharge</th>\n",
       "      <th>Item1</th>\n",
       "      <th>Item2</th>\n",
       "      <th>Item3</th>\n",
       "      <th>Item4</th>\n",
       "      <th>Item5</th>\n",
       "      <th>Item6</th>\n",
       "      <th>Item7</th>\n",
       "      <th>Item8</th>\n",
       "    </tr>\n",
       "  </thead>\n",
       "  <tbody>\n",
       "    <tr>\n",
       "      <th>0</th>\n",
       "      <td>904.536110</td>\n",
       "      <td>6.795513</td>\n",
       "      <td>38</td>\n",
       "      <td>Urban</td>\n",
       "      <td>0</td>\n",
       "      <td>68</td>\n",
       "      <td>28561.99</td>\n",
       "      <td>Widowed</td>\n",
       "      <td>Male</td>\n",
       "      <td>7.978323</td>\n",
       "      <td>...</td>\n",
       "      <td>Credit Card (automatic)</td>\n",
       "      <td>172.455519</td>\n",
       "      <td>5</td>\n",
       "      <td>5</td>\n",
       "      <td>5</td>\n",
       "      <td>3</td>\n",
       "      <td>4</td>\n",
       "      <td>4</td>\n",
       "      <td>3</td>\n",
       "      <td>4</td>\n",
       "    </tr>\n",
       "    <tr>\n",
       "      <th>1</th>\n",
       "      <td>800.982766</td>\n",
       "      <td>1.156681</td>\n",
       "      <td>10446</td>\n",
       "      <td>Urban</td>\n",
       "      <td>1</td>\n",
       "      <td>27</td>\n",
       "      <td>21704.77</td>\n",
       "      <td>Married</td>\n",
       "      <td>Female</td>\n",
       "      <td>11.699080</td>\n",
       "      <td>...</td>\n",
       "      <td>Bank Transfer(automatic)</td>\n",
       "      <td>242.632554</td>\n",
       "      <td>3</td>\n",
       "      <td>4</td>\n",
       "      <td>3</td>\n",
       "      <td>3</td>\n",
       "      <td>4</td>\n",
       "      <td>3</td>\n",
       "      <td>4</td>\n",
       "      <td>4</td>\n",
       "    </tr>\n",
       "    <tr>\n",
       "      <th>2</th>\n",
       "      <td>2054.706961</td>\n",
       "      <td>15.754144</td>\n",
       "      <td>3735</td>\n",
       "      <td>Urban</td>\n",
       "      <td>4</td>\n",
       "      <td>50</td>\n",
       "      <td>9609.57</td>\n",
       "      <td>Widowed</td>\n",
       "      <td>Female</td>\n",
       "      <td>10.752800</td>\n",
       "      <td>...</td>\n",
       "      <td>Credit Card (automatic)</td>\n",
       "      <td>159.947583</td>\n",
       "      <td>4</td>\n",
       "      <td>4</td>\n",
       "      <td>2</td>\n",
       "      <td>4</td>\n",
       "      <td>4</td>\n",
       "      <td>3</td>\n",
       "      <td>3</td>\n",
       "      <td>3</td>\n",
       "    </tr>\n",
       "    <tr>\n",
       "      <th>3</th>\n",
       "      <td>2164.579412</td>\n",
       "      <td>17.087227</td>\n",
       "      <td>13863</td>\n",
       "      <td>Suburban</td>\n",
       "      <td>1</td>\n",
       "      <td>48</td>\n",
       "      <td>18925.23</td>\n",
       "      <td>Married</td>\n",
       "      <td>Male</td>\n",
       "      <td>14.913540</td>\n",
       "      <td>...</td>\n",
       "      <td>Mailed Check</td>\n",
       "      <td>119.956840</td>\n",
       "      <td>4</td>\n",
       "      <td>4</td>\n",
       "      <td>4</td>\n",
       "      <td>2</td>\n",
       "      <td>5</td>\n",
       "      <td>4</td>\n",
       "      <td>3</td>\n",
       "      <td>3</td>\n",
       "    </tr>\n",
       "    <tr>\n",
       "      <th>4</th>\n",
       "      <td>271.493436</td>\n",
       "      <td>1.670972</td>\n",
       "      <td>11352</td>\n",
       "      <td>Suburban</td>\n",
       "      <td>0</td>\n",
       "      <td>83</td>\n",
       "      <td>40074.19</td>\n",
       "      <td>Separated</td>\n",
       "      <td>Male</td>\n",
       "      <td>8.147417</td>\n",
       "      <td>...</td>\n",
       "      <td>Mailed Check</td>\n",
       "      <td>149.948316</td>\n",
       "      <td>4</td>\n",
       "      <td>4</td>\n",
       "      <td>4</td>\n",
       "      <td>3</td>\n",
       "      <td>4</td>\n",
       "      <td>4</td>\n",
       "      <td>4</td>\n",
       "      <td>5</td>\n",
       "    </tr>\n",
       "  </tbody>\n",
       "</table>\n",
       "<p>5 rows × 37 columns</p>\n",
       "</div>"
      ],
      "text/plain": [
       "   Bandwidth_GB_Year     Tenure  Population      Area  Children  Age  \\\n",
       "0         904.536110   6.795513          38     Urban         0   68   \n",
       "1         800.982766   1.156681       10446     Urban         1   27   \n",
       "2        2054.706961  15.754144        3735     Urban         4   50   \n",
       "3        2164.579412  17.087227       13863  Suburban         1   48   \n",
       "4         271.493436   1.670972       11352  Suburban         0   83   \n",
       "\n",
       "     Income    Marital  Gender  Outage_sec_perweek  ...  \\\n",
       "0  28561.99    Widowed    Male            7.978323  ...   \n",
       "1  21704.77    Married  Female           11.699080  ...   \n",
       "2   9609.57    Widowed  Female           10.752800  ...   \n",
       "3  18925.23    Married    Male           14.913540  ...   \n",
       "4  40074.19  Separated    Male            8.147417  ...   \n",
       "\n",
       "              PaymentMethod  MonthlyCharge  Item1 Item2 Item3 Item4 Item5  \\\n",
       "0   Credit Card (automatic)     172.455519      5     5     5     3     4   \n",
       "1  Bank Transfer(automatic)     242.632554      3     4     3     3     4   \n",
       "2   Credit Card (automatic)     159.947583      4     4     2     4     4   \n",
       "3              Mailed Check     119.956840      4     4     4     2     5   \n",
       "4              Mailed Check     149.948316      4     4     4     3     4   \n",
       "\n",
       "  Item6 Item7 Item8  \n",
       "0     4     3     4  \n",
       "1     3     4     4  \n",
       "2     3     3     3  \n",
       "3     4     3     3  \n",
       "4     4     4     5  \n",
       "\n",
       "[5 rows x 37 columns]"
      ]
     },
     "execution_count": 18,
     "metadata": {},
     "output_type": "execute_result"
    }
   ],
   "source": [
    "# preview dataframe\n",
    "rf_df.head()"
   ]
  },
  {
   "cell_type": "markdown",
   "metadata": {},
   "source": [
    "_____________________________________________________________________________________________\n",
    "\n",
    "Identifying the discrete values of  categorical columns will allow for numerical mappings to be applied.\n",
    "\n",
    "_____________________________________________________________________________________________"
   ]
  },
  {
   "cell_type": "code",
   "execution_count": 19,
   "metadata": {
    "scrolled": true
   },
   "outputs": [
    {
     "data": {
      "text/html": [
       "<div>\n",
       "<style scoped>\n",
       "    .dataframe tbody tr th:only-of-type {\n",
       "        vertical-align: middle;\n",
       "    }\n",
       "\n",
       "    .dataframe tbody tr th {\n",
       "        vertical-align: top;\n",
       "    }\n",
       "\n",
       "    .dataframe thead th {\n",
       "        text-align: right;\n",
       "    }\n",
       "</style>\n",
       "<table border=\"1\" class=\"dataframe\">\n",
       "  <thead>\n",
       "    <tr style=\"text-align: right;\">\n",
       "      <th></th>\n",
       "      <th>Area</th>\n",
       "      <th>Marital</th>\n",
       "      <th>Gender</th>\n",
       "      <th>Techie</th>\n",
       "      <th>Contract</th>\n",
       "      <th>Port_modem</th>\n",
       "      <th>Tablet</th>\n",
       "      <th>InternetService</th>\n",
       "      <th>Phone</th>\n",
       "      <th>Multiple</th>\n",
       "      <th>OnlineSecurity</th>\n",
       "      <th>OnlineBackup</th>\n",
       "      <th>DeviceProtection</th>\n",
       "      <th>TechSupport</th>\n",
       "      <th>StreamingTV</th>\n",
       "      <th>StreamingMovies</th>\n",
       "      <th>PaperlessBilling</th>\n",
       "      <th>PaymentMethod</th>\n",
       "    </tr>\n",
       "  </thead>\n",
       "  <tbody>\n",
       "    <tr>\n",
       "      <th>0</th>\n",
       "      <td>Urban</td>\n",
       "      <td>Widowed</td>\n",
       "      <td>Male</td>\n",
       "      <td>No</td>\n",
       "      <td>One year</td>\n",
       "      <td>Yes</td>\n",
       "      <td>Yes</td>\n",
       "      <td>Fiber Optic</td>\n",
       "      <td>Yes</td>\n",
       "      <td>No</td>\n",
       "      <td>Yes</td>\n",
       "      <td>Yes</td>\n",
       "      <td>No</td>\n",
       "      <td>No</td>\n",
       "      <td>No</td>\n",
       "      <td>Yes</td>\n",
       "      <td>Yes</td>\n",
       "      <td>Credit Card (automatic)</td>\n",
       "    </tr>\n",
       "    <tr>\n",
       "      <th>1</th>\n",
       "      <td>Urban</td>\n",
       "      <td>Married</td>\n",
       "      <td>Female</td>\n",
       "      <td>Yes</td>\n",
       "      <td>Month-to-month</td>\n",
       "      <td>No</td>\n",
       "      <td>Yes</td>\n",
       "      <td>Fiber Optic</td>\n",
       "      <td>Yes</td>\n",
       "      <td>Yes</td>\n",
       "      <td>Yes</td>\n",
       "      <td>No</td>\n",
       "      <td>No</td>\n",
       "      <td>No</td>\n",
       "      <td>Yes</td>\n",
       "      <td>Yes</td>\n",
       "      <td>Yes</td>\n",
       "      <td>Bank Transfer(automatic)</td>\n",
       "    </tr>\n",
       "    <tr>\n",
       "      <th>2</th>\n",
       "      <td>Urban</td>\n",
       "      <td>Widowed</td>\n",
       "      <td>Female</td>\n",
       "      <td>Yes</td>\n",
       "      <td>Two Year</td>\n",
       "      <td>Yes</td>\n",
       "      <td>No</td>\n",
       "      <td>DSL</td>\n",
       "      <td>Yes</td>\n",
       "      <td>Yes</td>\n",
       "      <td>No</td>\n",
       "      <td>No</td>\n",
       "      <td>No</td>\n",
       "      <td>No</td>\n",
       "      <td>No</td>\n",
       "      <td>Yes</td>\n",
       "      <td>Yes</td>\n",
       "      <td>Credit Card (automatic)</td>\n",
       "    </tr>\n",
       "    <tr>\n",
       "      <th>3</th>\n",
       "      <td>Suburban</td>\n",
       "      <td>Married</td>\n",
       "      <td>Male</td>\n",
       "      <td>Yes</td>\n",
       "      <td>Two Year</td>\n",
       "      <td>No</td>\n",
       "      <td>No</td>\n",
       "      <td>DSL</td>\n",
       "      <td>Yes</td>\n",
       "      <td>No</td>\n",
       "      <td>Yes</td>\n",
       "      <td>No</td>\n",
       "      <td>No</td>\n",
       "      <td>No</td>\n",
       "      <td>Yes</td>\n",
       "      <td>No</td>\n",
       "      <td>Yes</td>\n",
       "      <td>Mailed Check</td>\n",
       "    </tr>\n",
       "    <tr>\n",
       "      <th>4</th>\n",
       "      <td>Suburban</td>\n",
       "      <td>Separated</td>\n",
       "      <td>Male</td>\n",
       "      <td>No</td>\n",
       "      <td>Month-to-month</td>\n",
       "      <td>Yes</td>\n",
       "      <td>No</td>\n",
       "      <td>Fiber Optic</td>\n",
       "      <td>No</td>\n",
       "      <td>No</td>\n",
       "      <td>No</td>\n",
       "      <td>No</td>\n",
       "      <td>No</td>\n",
       "      <td>Yes</td>\n",
       "      <td>Yes</td>\n",
       "      <td>No</td>\n",
       "      <td>No</td>\n",
       "      <td>Mailed Check</td>\n",
       "    </tr>\n",
       "  </tbody>\n",
       "</table>\n",
       "</div>"
      ],
      "text/plain": [
       "       Area    Marital  Gender Techie        Contract Port_modem Tablet  \\\n",
       "0     Urban    Widowed    Male     No        One year        Yes    Yes   \n",
       "1     Urban    Married  Female    Yes  Month-to-month         No    Yes   \n",
       "2     Urban    Widowed  Female    Yes        Two Year        Yes     No   \n",
       "3  Suburban    Married    Male    Yes        Two Year         No     No   \n",
       "4  Suburban  Separated    Male     No  Month-to-month        Yes     No   \n",
       "\n",
       "  InternetService Phone Multiple OnlineSecurity OnlineBackup DeviceProtection  \\\n",
       "0     Fiber Optic   Yes       No            Yes          Yes               No   \n",
       "1     Fiber Optic   Yes      Yes            Yes           No               No   \n",
       "2             DSL   Yes      Yes             No           No               No   \n",
       "3             DSL   Yes       No            Yes           No               No   \n",
       "4     Fiber Optic    No       No             No           No               No   \n",
       "\n",
       "  TechSupport StreamingTV StreamingMovies PaperlessBilling  \\\n",
       "0          No          No             Yes              Yes   \n",
       "1          No         Yes             Yes              Yes   \n",
       "2          No          No             Yes              Yes   \n",
       "3          No         Yes              No              Yes   \n",
       "4         Yes         Yes              No               No   \n",
       "\n",
       "              PaymentMethod  \n",
       "0   Credit Card (automatic)  \n",
       "1  Bank Transfer(automatic)  \n",
       "2   Credit Card (automatic)  \n",
       "3              Mailed Check  \n",
       "4              Mailed Check  "
      ]
     },
     "execution_count": 19,
     "metadata": {},
     "output_type": "execute_result"
    }
   ],
   "source": [
    "#display categorical columns of initial model dataframe\n",
    "obj_rf_df = rf_df.select_dtypes(include=['object']).copy()\n",
    "obj_rf_df.head()"
   ]
  },
  {
   "cell_type": "markdown",
   "metadata": {},
   "source": [
    "Most of the categorical columns consist of binary values.  These can be mapped to 1’s and 0’s.  To do this rf_df can be subsetted into just these columns as a new dataframe yn_df.  A data dictionary yn_mapping was created to assign 0 to No and 1 to Yes, which was then applied to relevant columns in rf_df."
   ]
  },
  {
   "cell_type": "code",
   "execution_count": 20,
   "metadata": {},
   "outputs": [
    {
     "data": {
      "text/html": [
       "<div>\n",
       "<style scoped>\n",
       "    .dataframe tbody tr th:only-of-type {\n",
       "        vertical-align: middle;\n",
       "    }\n",
       "\n",
       "    .dataframe tbody tr th {\n",
       "        vertical-align: top;\n",
       "    }\n",
       "\n",
       "    .dataframe thead th {\n",
       "        text-align: right;\n",
       "    }\n",
       "</style>\n",
       "<table border=\"1\" class=\"dataframe\">\n",
       "  <thead>\n",
       "    <tr style=\"text-align: right;\">\n",
       "      <th></th>\n",
       "      <th>Techie</th>\n",
       "      <th>Port_modem</th>\n",
       "      <th>Tablet</th>\n",
       "      <th>Phone</th>\n",
       "      <th>Multiple</th>\n",
       "      <th>OnlineSecurity</th>\n",
       "      <th>OnlineBackup</th>\n",
       "      <th>DeviceProtection</th>\n",
       "      <th>TechSupport</th>\n",
       "      <th>StreamingTV</th>\n",
       "      <th>StreamingMovies</th>\n",
       "      <th>PaperlessBilling</th>\n",
       "    </tr>\n",
       "  </thead>\n",
       "  <tbody>\n",
       "    <tr>\n",
       "      <th>0</th>\n",
       "      <td>No</td>\n",
       "      <td>Yes</td>\n",
       "      <td>Yes</td>\n",
       "      <td>Yes</td>\n",
       "      <td>No</td>\n",
       "      <td>Yes</td>\n",
       "      <td>Yes</td>\n",
       "      <td>No</td>\n",
       "      <td>No</td>\n",
       "      <td>No</td>\n",
       "      <td>Yes</td>\n",
       "      <td>Yes</td>\n",
       "    </tr>\n",
       "    <tr>\n",
       "      <th>1</th>\n",
       "      <td>Yes</td>\n",
       "      <td>No</td>\n",
       "      <td>Yes</td>\n",
       "      <td>Yes</td>\n",
       "      <td>Yes</td>\n",
       "      <td>Yes</td>\n",
       "      <td>No</td>\n",
       "      <td>No</td>\n",
       "      <td>No</td>\n",
       "      <td>Yes</td>\n",
       "      <td>Yes</td>\n",
       "      <td>Yes</td>\n",
       "    </tr>\n",
       "    <tr>\n",
       "      <th>2</th>\n",
       "      <td>Yes</td>\n",
       "      <td>Yes</td>\n",
       "      <td>No</td>\n",
       "      <td>Yes</td>\n",
       "      <td>Yes</td>\n",
       "      <td>No</td>\n",
       "      <td>No</td>\n",
       "      <td>No</td>\n",
       "      <td>No</td>\n",
       "      <td>No</td>\n",
       "      <td>Yes</td>\n",
       "      <td>Yes</td>\n",
       "    </tr>\n",
       "    <tr>\n",
       "      <th>3</th>\n",
       "      <td>Yes</td>\n",
       "      <td>No</td>\n",
       "      <td>No</td>\n",
       "      <td>Yes</td>\n",
       "      <td>No</td>\n",
       "      <td>Yes</td>\n",
       "      <td>No</td>\n",
       "      <td>No</td>\n",
       "      <td>No</td>\n",
       "      <td>Yes</td>\n",
       "      <td>No</td>\n",
       "      <td>Yes</td>\n",
       "    </tr>\n",
       "    <tr>\n",
       "      <th>4</th>\n",
       "      <td>No</td>\n",
       "      <td>Yes</td>\n",
       "      <td>No</td>\n",
       "      <td>No</td>\n",
       "      <td>No</td>\n",
       "      <td>No</td>\n",
       "      <td>No</td>\n",
       "      <td>No</td>\n",
       "      <td>Yes</td>\n",
       "      <td>Yes</td>\n",
       "      <td>No</td>\n",
       "      <td>No</td>\n",
       "    </tr>\n",
       "  </tbody>\n",
       "</table>\n",
       "</div>"
      ],
      "text/plain": [
       "  Techie Port_modem Tablet Phone Multiple OnlineSecurity OnlineBackup  \\\n",
       "0     No        Yes    Yes   Yes       No            Yes          Yes   \n",
       "1    Yes         No    Yes   Yes      Yes            Yes           No   \n",
       "2    Yes        Yes     No   Yes      Yes             No           No   \n",
       "3    Yes         No     No   Yes       No            Yes           No   \n",
       "4     No        Yes     No    No       No             No           No   \n",
       "\n",
       "  DeviceProtection TechSupport StreamingTV StreamingMovies PaperlessBilling  \n",
       "0               No          No          No             Yes              Yes  \n",
       "1               No          No         Yes             Yes              Yes  \n",
       "2               No          No          No             Yes              Yes  \n",
       "3               No          No         Yes              No              Yes  \n",
       "4               No         Yes         Yes              No               No  "
      ]
     },
     "execution_count": 20,
     "metadata": {},
     "output_type": "execute_result"
    }
   ],
   "source": [
    "# subset for binary columns\n",
    "yn_df = rf_df[['Techie', 'Port_modem', 'Tablet', 'Phone', 'Multiple', 'OnlineSecurity', 'OnlineBackup', 'DeviceProtection', 'TechSupport', 'StreamingTV', 'StreamingMovies', 'PaperlessBilling']]\n",
    "yn_df.head()"
   ]
  },
  {
   "cell_type": "code",
   "execution_count": 21,
   "metadata": {},
   "outputs": [],
   "source": [
    "# supressing non-crucial warnings from output\n",
    "\n",
    "import warnings\n",
    "warnings.filterwarnings('ignore')"
   ]
  },
  {
   "cell_type": "code",
   "execution_count": 22,
   "metadata": {},
   "outputs": [],
   "source": [
    "# map yes/no values to 1 and 0\n",
    "yn_mapping = {'No' : 0, 'Yes' : 1}\n",
    "for column in yn_df: \n",
    "    rf_df[column] = rf_df[column].map(yn_mapping)"
   ]
  },
  {
   "cell_type": "code",
   "execution_count": 23,
   "metadata": {},
   "outputs": [
    {
     "data": {
      "text/html": [
       "<div>\n",
       "<style scoped>\n",
       "    .dataframe tbody tr th:only-of-type {\n",
       "        vertical-align: middle;\n",
       "    }\n",
       "\n",
       "    .dataframe tbody tr th {\n",
       "        vertical-align: top;\n",
       "    }\n",
       "\n",
       "    .dataframe thead th {\n",
       "        text-align: right;\n",
       "    }\n",
       "</style>\n",
       "<table border=\"1\" class=\"dataframe\">\n",
       "  <thead>\n",
       "    <tr style=\"text-align: right;\">\n",
       "      <th></th>\n",
       "      <th>Techie</th>\n",
       "      <th>Port_modem</th>\n",
       "      <th>Tablet</th>\n",
       "      <th>Phone</th>\n",
       "      <th>Multiple</th>\n",
       "      <th>OnlineSecurity</th>\n",
       "      <th>OnlineBackup</th>\n",
       "      <th>DeviceProtection</th>\n",
       "      <th>TechSupport</th>\n",
       "      <th>StreamingTV</th>\n",
       "      <th>StreamingMovies</th>\n",
       "      <th>PaperlessBilling</th>\n",
       "    </tr>\n",
       "  </thead>\n",
       "  <tbody>\n",
       "    <tr>\n",
       "      <th>0</th>\n",
       "      <td>0</td>\n",
       "      <td>1</td>\n",
       "      <td>1</td>\n",
       "      <td>1</td>\n",
       "      <td>0</td>\n",
       "      <td>1</td>\n",
       "      <td>1</td>\n",
       "      <td>0</td>\n",
       "      <td>0</td>\n",
       "      <td>0</td>\n",
       "      <td>1</td>\n",
       "      <td>1</td>\n",
       "    </tr>\n",
       "    <tr>\n",
       "      <th>1</th>\n",
       "      <td>1</td>\n",
       "      <td>0</td>\n",
       "      <td>1</td>\n",
       "      <td>1</td>\n",
       "      <td>1</td>\n",
       "      <td>1</td>\n",
       "      <td>0</td>\n",
       "      <td>0</td>\n",
       "      <td>0</td>\n",
       "      <td>1</td>\n",
       "      <td>1</td>\n",
       "      <td>1</td>\n",
       "    </tr>\n",
       "    <tr>\n",
       "      <th>2</th>\n",
       "      <td>1</td>\n",
       "      <td>1</td>\n",
       "      <td>0</td>\n",
       "      <td>1</td>\n",
       "      <td>1</td>\n",
       "      <td>0</td>\n",
       "      <td>0</td>\n",
       "      <td>0</td>\n",
       "      <td>0</td>\n",
       "      <td>0</td>\n",
       "      <td>1</td>\n",
       "      <td>1</td>\n",
       "    </tr>\n",
       "    <tr>\n",
       "      <th>3</th>\n",
       "      <td>1</td>\n",
       "      <td>0</td>\n",
       "      <td>0</td>\n",
       "      <td>1</td>\n",
       "      <td>0</td>\n",
       "      <td>1</td>\n",
       "      <td>0</td>\n",
       "      <td>0</td>\n",
       "      <td>0</td>\n",
       "      <td>1</td>\n",
       "      <td>0</td>\n",
       "      <td>1</td>\n",
       "    </tr>\n",
       "    <tr>\n",
       "      <th>4</th>\n",
       "      <td>0</td>\n",
       "      <td>1</td>\n",
       "      <td>0</td>\n",
       "      <td>0</td>\n",
       "      <td>0</td>\n",
       "      <td>0</td>\n",
       "      <td>0</td>\n",
       "      <td>0</td>\n",
       "      <td>1</td>\n",
       "      <td>1</td>\n",
       "      <td>0</td>\n",
       "      <td>0</td>\n",
       "    </tr>\n",
       "  </tbody>\n",
       "</table>\n",
       "</div>"
      ],
      "text/plain": [
       "   Techie  Port_modem  Tablet  Phone  Multiple  OnlineSecurity  OnlineBackup  \\\n",
       "0       0           1       1      1         0               1             1   \n",
       "1       1           0       1      1         1               1             0   \n",
       "2       1           1       0      1         1               0             0   \n",
       "3       1           0       0      1         0               1             0   \n",
       "4       0           1       0      0         0               0             0   \n",
       "\n",
       "   DeviceProtection  TechSupport  StreamingTV  StreamingMovies  \\\n",
       "0                 0            0            0                1   \n",
       "1                 0            0            1                1   \n",
       "2                 0            0            0                1   \n",
       "3                 0            0            1                0   \n",
       "4                 0            1            1                0   \n",
       "\n",
       "   PaperlessBilling  \n",
       "0                 1  \n",
       "1                 1  \n",
       "2                 1  \n",
       "3                 1  \n",
       "4                 0  "
      ]
     },
     "execution_count": 23,
     "metadata": {},
     "output_type": "execute_result"
    }
   ],
   "source": [
    "# checking that yes/no now appear as 1/0\n",
    "rf_df[['Techie', 'Port_modem', 'Tablet', 'Phone', 'Multiple', 'OnlineSecurity', 'OnlineBackup', 'DeviceProtection', 'TechSupport', 'StreamingTV', 'StreamingMovies', 'PaperlessBilling']].head()"
   ]
  },
  {
   "cell_type": "markdown",
   "metadata": {},
   "source": [
    "The .unique() function was used on the remaining categorical columns to find their distinct categorical values.  Contract, and Area contained 3 unique categorical values. The above code structure was used on each of these columns to assign numbers ranging from 0-4."
   ]
  },
  {
   "cell_type": "markdown",
   "metadata": {},
   "source": [
    "Categorical features:  'Area', 'Marital', 'Gender', 'Contract', 'InternetService', 'PaymentMethod'"
   ]
  },
  {
   "cell_type": "markdown",
   "metadata": {},
   "source": [
    "To avoid growing the number of features which can slow down processing of tree algorithms and to prevent subtrees from growing in one direction I chose an ordinal encoding of categorical variables instead of one-hot encoding.  (Ravi, 2019)"
   ]
  },
  {
   "cell_type": "code",
   "execution_count": 24,
   "metadata": {},
   "outputs": [
    {
     "data": {
      "text/plain": [
       "array(['Urban', 'Suburban', 'Rural'], dtype=object)"
      ]
     },
     "execution_count": 24,
     "metadata": {},
     "output_type": "execute_result"
    }
   ],
   "source": [
    "rf_df['Area'].unique()"
   ]
  },
  {
   "cell_type": "code",
   "execution_count": 25,
   "metadata": {},
   "outputs": [],
   "source": [
    "# ranked by population density\n",
    "area_mapping = {'Rural' : 0, 'Suburban' : 1, 'Urban' : 2}\n",
    "rf_df['Area'] = rf_df['Area'].map(area_mapping)"
   ]
  },
  {
   "cell_type": "code",
   "execution_count": 26,
   "metadata": {},
   "outputs": [
    {
     "data": {
      "text/plain": [
       "array(['One year', 'Month-to-month', 'Two Year'], dtype=object)"
      ]
     },
     "execution_count": 26,
     "metadata": {},
     "output_type": "execute_result"
    }
   ],
   "source": [
    "rf_df['Contract'].unique()"
   ]
  },
  {
   "cell_type": "code",
   "execution_count": 27,
   "metadata": {},
   "outputs": [],
   "source": [
    "# ranked shortest duration to longest\n",
    "contract_mapping = {'Month-to-month' : 0, 'One year' : 1, 'Two Year' : 2}\n",
    "rf_df['Contract'] = rf_df['Contract'].map(contract_mapping)"
   ]
  },
  {
   "cell_type": "code",
   "execution_count": 28,
   "metadata": {},
   "outputs": [
    {
     "data": {
      "text/plain": [
       "array(['Fiber Optic', 'DSL', 'None'], dtype=object)"
      ]
     },
     "execution_count": 28,
     "metadata": {},
     "output_type": "execute_result"
    }
   ],
   "source": [
    "rf_df['InternetService'].unique()"
   ]
  },
  {
   "cell_type": "code",
   "execution_count": 29,
   "metadata": {},
   "outputs": [],
   "source": [
    "# ranked by bandwidth capacity\n",
    "int_mapping = {'None' : 0, 'DSL' : 1, 'Fiber Optic' : 2}\n",
    "rf_df['InternetService'] = rf_df['InternetService'].map(int_mapping)"
   ]
  },
  {
   "cell_type": "markdown",
   "metadata": {},
   "source": [
    "The .value_counts function was used to determine a frequency based mapping scheme for Marital and PaymentMethod and Gender."
   ]
  },
  {
   "cell_type": "code",
   "execution_count": 30,
   "metadata": {},
   "outputs": [
    {
     "data": {
      "text/plain": [
       "Divorced         2092\n",
       "Widowed          2027\n",
       "Separated        2014\n",
       "Never Married    1956\n",
       "Married          1911\n",
       "Name: Marital, dtype: int64"
      ]
     },
     "execution_count": 30,
     "metadata": {},
     "output_type": "execute_result"
    }
   ],
   "source": [
    "rf_df['Marital'].value_counts()"
   ]
  },
  {
   "cell_type": "code",
   "execution_count": 31,
   "metadata": {},
   "outputs": [],
   "source": [
    "# ranked by counts\n",
    "mar_mapping = {'Married' : 0, 'Never Married' : 1, 'Separated' : 2, 'Widowed' : 3, 'Divorced' : 4}\n",
    "rf_df['Marital'] = rf_df['Marital'].map(mar_mapping)"
   ]
  },
  {
   "cell_type": "code",
   "execution_count": 32,
   "metadata": {},
   "outputs": [
    {
     "data": {
      "text/plain": [
       "Electronic Check            3398\n",
       "Mailed Check                2290\n",
       "Bank Transfer(automatic)    2229\n",
       "Credit Card (automatic)     2083\n",
       "Name: PaymentMethod, dtype: int64"
      ]
     },
     "execution_count": 32,
     "metadata": {},
     "output_type": "execute_result"
    }
   ],
   "source": [
    "rf_df['PaymentMethod'].value_counts()"
   ]
  },
  {
   "cell_type": "code",
   "execution_count": 33,
   "metadata": {},
   "outputs": [],
   "source": [
    "# ranked by frequency of usage\n",
    "py_mapping = {'Credit Card (automatic)' : 0, 'Bank Transfer(automatic)' : 1, 'Mailed Check' : 2, 'Electronic Check' : 3}\n",
    "rf_df['PaymentMethod'] = rf_df['PaymentMethod'].map(py_mapping)"
   ]
  },
  {
   "cell_type": "code",
   "execution_count": 34,
   "metadata": {},
   "outputs": [
    {
     "data": {
      "text/plain": [
       "Female       5025\n",
       "Male         4744\n",
       "Nonbinary     231\n",
       "Name: Gender, dtype: int64"
      ]
     },
     "execution_count": 34,
     "metadata": {},
     "output_type": "execute_result"
    }
   ],
   "source": [
    "rf_df['Gender'].value_counts()"
   ]
  },
  {
   "cell_type": "code",
   "execution_count": 35,
   "metadata": {},
   "outputs": [],
   "source": [
    "# ranked by count\n",
    "gen_mapping = {'Nonbinary' : 0, 'Male' : 1, 'Female' : 2}\n",
    "rf_df['Gender'] = rf_df['Gender'].map(gen_mapping)"
   ]
  },
  {
   "cell_type": "code",
   "execution_count": 36,
   "metadata": {},
   "outputs": [
    {
     "data": {
      "text/html": [
       "<div>\n",
       "<style scoped>\n",
       "    .dataframe tbody tr th:only-of-type {\n",
       "        vertical-align: middle;\n",
       "    }\n",
       "\n",
       "    .dataframe tbody tr th {\n",
       "        vertical-align: top;\n",
       "    }\n",
       "\n",
       "    .dataframe thead th {\n",
       "        text-align: right;\n",
       "    }\n",
       "</style>\n",
       "<table border=\"1\" class=\"dataframe\">\n",
       "  <thead>\n",
       "    <tr style=\"text-align: right;\">\n",
       "      <th></th>\n",
       "      <th>Area</th>\n",
       "      <th>Marital</th>\n",
       "      <th>Gender</th>\n",
       "      <th>Contract</th>\n",
       "      <th>InternetService</th>\n",
       "      <th>PaymentMethod</th>\n",
       "    </tr>\n",
       "  </thead>\n",
       "  <tbody>\n",
       "    <tr>\n",
       "      <th>0</th>\n",
       "      <td>2</td>\n",
       "      <td>3</td>\n",
       "      <td>1</td>\n",
       "      <td>1</td>\n",
       "      <td>2</td>\n",
       "      <td>0</td>\n",
       "    </tr>\n",
       "    <tr>\n",
       "      <th>1</th>\n",
       "      <td>2</td>\n",
       "      <td>0</td>\n",
       "      <td>2</td>\n",
       "      <td>0</td>\n",
       "      <td>2</td>\n",
       "      <td>1</td>\n",
       "    </tr>\n",
       "    <tr>\n",
       "      <th>2</th>\n",
       "      <td>2</td>\n",
       "      <td>3</td>\n",
       "      <td>2</td>\n",
       "      <td>2</td>\n",
       "      <td>1</td>\n",
       "      <td>0</td>\n",
       "    </tr>\n",
       "    <tr>\n",
       "      <th>3</th>\n",
       "      <td>1</td>\n",
       "      <td>0</td>\n",
       "      <td>1</td>\n",
       "      <td>2</td>\n",
       "      <td>1</td>\n",
       "      <td>2</td>\n",
       "    </tr>\n",
       "    <tr>\n",
       "      <th>4</th>\n",
       "      <td>1</td>\n",
       "      <td>2</td>\n",
       "      <td>1</td>\n",
       "      <td>0</td>\n",
       "      <td>2</td>\n",
       "      <td>2</td>\n",
       "    </tr>\n",
       "    <tr>\n",
       "      <th>5</th>\n",
       "      <td>2</td>\n",
       "      <td>1</td>\n",
       "      <td>2</td>\n",
       "      <td>1</td>\n",
       "      <td>0</td>\n",
       "      <td>3</td>\n",
       "    </tr>\n",
       "    <tr>\n",
       "      <th>6</th>\n",
       "      <td>1</td>\n",
       "      <td>3</td>\n",
       "      <td>1</td>\n",
       "      <td>0</td>\n",
       "      <td>1</td>\n",
       "      <td>3</td>\n",
       "    </tr>\n",
       "    <tr>\n",
       "      <th>7</th>\n",
       "      <td>1</td>\n",
       "      <td>0</td>\n",
       "      <td>2</td>\n",
       "      <td>0</td>\n",
       "      <td>1</td>\n",
       "      <td>2</td>\n",
       "    </tr>\n",
       "    <tr>\n",
       "      <th>8</th>\n",
       "      <td>1</td>\n",
       "      <td>2</td>\n",
       "      <td>0</td>\n",
       "      <td>0</td>\n",
       "      <td>1</td>\n",
       "      <td>1</td>\n",
       "    </tr>\n",
       "    <tr>\n",
       "      <th>9</th>\n",
       "      <td>0</td>\n",
       "      <td>0</td>\n",
       "      <td>2</td>\n",
       "      <td>2</td>\n",
       "      <td>2</td>\n",
       "      <td>2</td>\n",
       "    </tr>\n",
       "  </tbody>\n",
       "</table>\n",
       "</div>"
      ],
      "text/plain": [
       "   Area  Marital  Gender  Contract  InternetService  PaymentMethod\n",
       "0     2        3       1         1                2              0\n",
       "1     2        0       2         0                2              1\n",
       "2     2        3       2         2                1              0\n",
       "3     1        0       1         2                1              2\n",
       "4     1        2       1         0                2              2\n",
       "5     2        1       2         1                0              3\n",
       "6     1        3       1         0                1              3\n",
       "7     1        0       2         0                1              2\n",
       "8     1        2       0         0                1              1\n",
       "9     0        0       2         2                2              2"
      ]
     },
     "execution_count": 36,
     "metadata": {},
     "output_type": "execute_result"
    }
   ],
   "source": [
    "rf_df[['Area', 'Marital', 'Gender', 'Contract', 'InternetService', 'PaymentMethod']].head(10)"
   ]
  },
  {
   "cell_type": "code",
   "execution_count": 85,
   "metadata": {},
   "outputs": [
    {
     "data": {
      "text/html": [
       "<div>\n",
       "<style scoped>\n",
       "    .dataframe tbody tr th:only-of-type {\n",
       "        vertical-align: middle;\n",
       "    }\n",
       "\n",
       "    .dataframe tbody tr th {\n",
       "        vertical-align: top;\n",
       "    }\n",
       "\n",
       "    .dataframe thead th {\n",
       "        text-align: right;\n",
       "    }\n",
       "</style>\n",
       "<table border=\"1\" class=\"dataframe\">\n",
       "  <thead>\n",
       "    <tr style=\"text-align: right;\">\n",
       "      <th></th>\n",
       "      <th>Bandwidth_GB_Year</th>\n",
       "      <th>Tenure</th>\n",
       "      <th>Population</th>\n",
       "      <th>Area</th>\n",
       "      <th>Children</th>\n",
       "      <th>Age</th>\n",
       "      <th>Income</th>\n",
       "      <th>Marital</th>\n",
       "      <th>Gender</th>\n",
       "      <th>Outage_sec_perweek</th>\n",
       "      <th>...</th>\n",
       "      <th>PaymentMethod</th>\n",
       "      <th>MonthlyCharge</th>\n",
       "      <th>Item1</th>\n",
       "      <th>Item2</th>\n",
       "      <th>Item3</th>\n",
       "      <th>Item4</th>\n",
       "      <th>Item5</th>\n",
       "      <th>Item6</th>\n",
       "      <th>Item7</th>\n",
       "      <th>Item8</th>\n",
       "    </tr>\n",
       "  </thead>\n",
       "  <tbody>\n",
       "    <tr>\n",
       "      <th>0</th>\n",
       "      <td>904.536110</td>\n",
       "      <td>6.795513</td>\n",
       "      <td>38</td>\n",
       "      <td>2</td>\n",
       "      <td>0</td>\n",
       "      <td>68</td>\n",
       "      <td>28561.99</td>\n",
       "      <td>3</td>\n",
       "      <td>1</td>\n",
       "      <td>7.978323</td>\n",
       "      <td>...</td>\n",
       "      <td>0</td>\n",
       "      <td>172.455519</td>\n",
       "      <td>5</td>\n",
       "      <td>5</td>\n",
       "      <td>5</td>\n",
       "      <td>3</td>\n",
       "      <td>4</td>\n",
       "      <td>4</td>\n",
       "      <td>3</td>\n",
       "      <td>4</td>\n",
       "    </tr>\n",
       "    <tr>\n",
       "      <th>1</th>\n",
       "      <td>800.982766</td>\n",
       "      <td>1.156681</td>\n",
       "      <td>10446</td>\n",
       "      <td>2</td>\n",
       "      <td>1</td>\n",
       "      <td>27</td>\n",
       "      <td>21704.77</td>\n",
       "      <td>0</td>\n",
       "      <td>2</td>\n",
       "      <td>11.699080</td>\n",
       "      <td>...</td>\n",
       "      <td>1</td>\n",
       "      <td>242.632554</td>\n",
       "      <td>3</td>\n",
       "      <td>4</td>\n",
       "      <td>3</td>\n",
       "      <td>3</td>\n",
       "      <td>4</td>\n",
       "      <td>3</td>\n",
       "      <td>4</td>\n",
       "      <td>4</td>\n",
       "    </tr>\n",
       "    <tr>\n",
       "      <th>2</th>\n",
       "      <td>2054.706961</td>\n",
       "      <td>15.754144</td>\n",
       "      <td>3735</td>\n",
       "      <td>2</td>\n",
       "      <td>4</td>\n",
       "      <td>50</td>\n",
       "      <td>9609.57</td>\n",
       "      <td>3</td>\n",
       "      <td>2</td>\n",
       "      <td>10.752800</td>\n",
       "      <td>...</td>\n",
       "      <td>0</td>\n",
       "      <td>159.947583</td>\n",
       "      <td>4</td>\n",
       "      <td>4</td>\n",
       "      <td>2</td>\n",
       "      <td>4</td>\n",
       "      <td>4</td>\n",
       "      <td>3</td>\n",
       "      <td>3</td>\n",
       "      <td>3</td>\n",
       "    </tr>\n",
       "    <tr>\n",
       "      <th>3</th>\n",
       "      <td>2164.579412</td>\n",
       "      <td>17.087227</td>\n",
       "      <td>13863</td>\n",
       "      <td>1</td>\n",
       "      <td>1</td>\n",
       "      <td>48</td>\n",
       "      <td>18925.23</td>\n",
       "      <td>0</td>\n",
       "      <td>1</td>\n",
       "      <td>14.913540</td>\n",
       "      <td>...</td>\n",
       "      <td>2</td>\n",
       "      <td>119.956840</td>\n",
       "      <td>4</td>\n",
       "      <td>4</td>\n",
       "      <td>4</td>\n",
       "      <td>2</td>\n",
       "      <td>5</td>\n",
       "      <td>4</td>\n",
       "      <td>3</td>\n",
       "      <td>3</td>\n",
       "    </tr>\n",
       "    <tr>\n",
       "      <th>4</th>\n",
       "      <td>271.493436</td>\n",
       "      <td>1.670972</td>\n",
       "      <td>11352</td>\n",
       "      <td>1</td>\n",
       "      <td>0</td>\n",
       "      <td>83</td>\n",
       "      <td>40074.19</td>\n",
       "      <td>2</td>\n",
       "      <td>1</td>\n",
       "      <td>8.147417</td>\n",
       "      <td>...</td>\n",
       "      <td>2</td>\n",
       "      <td>149.948316</td>\n",
       "      <td>4</td>\n",
       "      <td>4</td>\n",
       "      <td>4</td>\n",
       "      <td>3</td>\n",
       "      <td>4</td>\n",
       "      <td>4</td>\n",
       "      <td>4</td>\n",
       "      <td>5</td>\n",
       "    </tr>\n",
       "  </tbody>\n",
       "</table>\n",
       "<p>5 rows × 37 columns</p>\n",
       "</div>"
      ],
      "text/plain": [
       "   Bandwidth_GB_Year     Tenure  Population  Area  Children  Age    Income  \\\n",
       "0         904.536110   6.795513          38     2         0   68  28561.99   \n",
       "1         800.982766   1.156681       10446     2         1   27  21704.77   \n",
       "2        2054.706961  15.754144        3735     2         4   50   9609.57   \n",
       "3        2164.579412  17.087227       13863     1         1   48  18925.23   \n",
       "4         271.493436   1.670972       11352     1         0   83  40074.19   \n",
       "\n",
       "   Marital  Gender  Outage_sec_perweek  ...  PaymentMethod  MonthlyCharge  \\\n",
       "0        3       1            7.978323  ...              0     172.455519   \n",
       "1        0       2           11.699080  ...              1     242.632554   \n",
       "2        3       2           10.752800  ...              0     159.947583   \n",
       "3        0       1           14.913540  ...              2     119.956840   \n",
       "4        2       1            8.147417  ...              2     149.948316   \n",
       "\n",
       "   Item1  Item2  Item3  Item4  Item5  Item6  Item7  Item8  \n",
       "0      5      5      5      3      4      4      3      4  \n",
       "1      3      4      3      3      4      3      4      4  \n",
       "2      4      4      2      4      4      3      3      3  \n",
       "3      4      4      4      2      5      4      3      3  \n",
       "4      4      4      4      3      4      4      4      5  \n",
       "\n",
       "[5 rows x 37 columns]"
      ]
     },
     "execution_count": 85,
     "metadata": {},
     "output_type": "execute_result"
    }
   ],
   "source": [
    "# no character values - all mapped to discrete numbers\n",
    "rf_df.head()"
   ]
  },
  {
   "cell_type": "markdown",
   "metadata": {},
   "source": [
    "This is the prepared data frame which was used to build the RF model, and can be saved as an Excel spreadsheet."
   ]
  },
  {
   "cell_type": "code",
   "execution_count": 37,
   "metadata": {},
   "outputs": [],
   "source": [
    "# write prepared data frame to Excel\n",
    "rf_df.to_excel('C:/Users/maxgs/MSDA/D209/Task2/RndFo_Prepared.xlsx', index = False)"
   ]
  },
  {
   "cell_type": "markdown",
   "metadata": {},
   "source": [
    "# Model Analysis"
   ]
  },
  {
   "cell_type": "markdown",
   "metadata": {},
   "source": [
    "Predictor and target variables are designated as X and y, then split into training and testing sets, with 20% of the data used for testing.  \n"
   ]
  },
  {
   "cell_type": "code",
   "execution_count": 38,
   "metadata": {},
   "outputs": [],
   "source": [
    "# Create arrays for the features and the response variable\n",
    "y = rf_df['Bandwidth_GB_Year']\n",
    "X = rf_df.drop('Bandwidth_GB_Year', axis=1)"
   ]
  },
  {
   "cell_type": "code",
   "execution_count": 39,
   "metadata": {},
   "outputs": [],
   "source": [
    "# split data into training and testing sets using the general 80-20 rule\n",
    "from sklearn.model_selection import train_test_split\n",
    "X_train, X_test, y_train, y_test = train_test_split(X, y, test_size = 0.2, random_state=42)"
   ]
  },
  {
   "cell_type": "code",
   "execution_count": 40,
   "metadata": {},
   "outputs": [
    {
     "data": {
      "text/plain": [
       "{'bootstrap': True,\n",
       " 'criterion': 'mse',\n",
       " 'max_depth': None,\n",
       " 'max_features': 'auto',\n",
       " 'max_leaf_nodes': None,\n",
       " 'min_impurity_decrease': 0.0,\n",
       " 'min_impurity_split': None,\n",
       " 'min_samples_leaf': 1,\n",
       " 'min_samples_split': 2,\n",
       " 'min_weight_fraction_leaf': 0.0,\n",
       " 'n_estimators': 'warn',\n",
       " 'n_jobs': None,\n",
       " 'oob_score': False,\n",
       " 'random_state': None,\n",
       " 'verbose': 0,\n",
       " 'warm_start': False}"
      ]
     },
     "execution_count": 40,
     "metadata": {},
     "output_type": "execute_result"
    }
   ],
   "source": [
    "# look at random forest regressor hyperparameters\n",
    "from sklearn.ensemble import RandomForestRegressor\n",
    "RandomForestRegressor().get_params()"
   ]
  },
  {
   "cell_type": "markdown",
   "metadata": {},
   "source": [
    "The parameters below were chosen for model optimization:\n",
    "\n",
    "n_ estimators - number of trees in forest\n",
    "\n",
    "max_depth - maximum depth of tree.  \n",
    "\n",
    "max_features - number of features to consider when looking for the best split\n",
    "\n",
    "min_samples_split - minimum number of samples required to split an internal node\n",
    "\n",
    "According to the Datacamp course on Supervised Learning with Scikit-Learn: \"GridSearchCV can be computationally expensive, especially if you are searching over a large hyperparameter space and dealing with multiple hyperparameters. A solution to this is to use RandomizedSearchCV, in which not all hyperparameter values are tried out. Instead, a fixed number of hyperparameter settings is sampled from specified probability distributions.\" "
   ]
  },
  {
   "cell_type": "code",
   "execution_count": 41,
   "metadata": {},
   "outputs": [],
   "source": [
    "from sklearn.ensemble import RandomForestRegressor\n",
    "from sklearn.metrics import make_scorer, mean_squared_error\n",
    "\n",
    "# Finish the dictionary by adding the max_depth parameter\n",
    "param_dist = {'n_estimators': [100,250,500],\n",
    "              \"max_depth\": [2, 4, 6, 8],\n",
    "              \"max_features\": [2, 4, 6, 8, 10],\n",
    "              \"min_samples_split\": [2, 4, 8, 16]}\n",
    "\n",
    "# Create a random forest regression model\n",
    "rf = RandomForestRegressor(n_estimators=10, random_state=1111)\n",
    "\n",
    "# Create a scorer to use (use the mean squared error)\n",
    "scorer = make_scorer(mean_squared_error)\n"
   ]
  },
  {
   "cell_type": "code",
   "execution_count": 43,
   "metadata": {},
   "outputs": [
    {
     "data": {
      "text/plain": [
       "RandomizedSearchCV(cv=5, error_score='raise-deprecating',\n",
       "                   estimator=RandomForestRegressor(bootstrap=True,\n",
       "                                                   criterion='mse',\n",
       "                                                   max_depth=None,\n",
       "                                                   max_features='auto',\n",
       "                                                   max_leaf_nodes=None,\n",
       "                                                   min_impurity_decrease=0.0,\n",
       "                                                   min_impurity_split=None,\n",
       "                                                   min_samples_leaf=1,\n",
       "                                                   min_samples_split=2,\n",
       "                                                   min_weight_fraction_leaf=0.0,\n",
       "                                                   n_estimators=10, n_jobs=None,\n",
       "                                                   oob_score=False,\n",
       "                                                   random_state=1111, verbose=0,\n",
       "                                                   warm_start=False),\n",
       "                   iid='warn', n_iter=10, n_jobs=None,\n",
       "                   param_distributions={'max_depth': [2, 4, 6, 8],\n",
       "                                        'max_features': [2, 4, 6, 8, 10],\n",
       "                                        'min_samples_split': [2, 4, 8, 16],\n",
       "                                        'n_estimators': [100, 250, 500]},\n",
       "                   pre_dispatch='2*n_jobs', random_state=None, refit=True,\n",
       "                   return_train_score=False,\n",
       "                   scoring=make_scorer(mean_squared_error), verbose=0)"
      ]
     },
     "execution_count": 43,
     "metadata": {},
     "output_type": "execute_result"
    }
   ],
   "source": [
    "# Import the method for random search\n",
    "from sklearn.model_selection import RandomizedSearchCV\n",
    "\n",
    "# Build a random search using param_dist, rfr, and scorer\n",
    "rs = RandomizedSearchCV(\n",
    "        estimator=rf,\n",
    "        param_distributions=param_dist,\n",
    "        n_iter=10,\n",
    "        cv=5,\n",
    "        scoring=scorer)\n",
    "\n",
    "rs.fit(X_train, y_train)"
   ]
  },
  {
   "cell_type": "code",
   "execution_count": 45,
   "metadata": {},
   "outputs": [
    {
     "data": {
      "text/plain": [
       "array([1336270.35544517,  261727.15030483,  118835.82058331,\n",
       "        579560.33259601, 1448518.33236551, 1410080.21763523,\n",
       "       2117528.61817382,  115406.06051905, 3184625.35206605,\n",
       "       1318070.93824102])"
      ]
     },
     "execution_count": 45,
     "metadata": {},
     "output_type": "execute_result"
    }
   ],
   "source": [
    "# mean squared error (defined from scorer)\n",
    "rs.cv_results_['mean_test_score']"
   ]
  },
  {
   "cell_type": "code",
   "execution_count": 55,
   "metadata": {},
   "outputs": [
    {
     "name": "stdout",
     "output_type": "stream",
     "text": [
      "RandomForestRegressor(bootstrap=True, criterion='mse', max_depth=2,\n",
      "                      max_features=2, max_leaf_nodes=None,\n",
      "                      min_impurity_decrease=0.0, min_impurity_split=None,\n",
      "                      min_samples_leaf=1, min_samples_split=16,\n",
      "                      min_weight_fraction_leaf=0.0, n_estimators=100,\n",
      "                      n_jobs=None, oob_score=False, random_state=1111,\n",
      "                      verbose=0, warm_start=False)\n",
      "MSE of best model:  3882138.77\n",
      "RMSE of best model:  1970.31\n",
      "R^2 of best model:  0.18\n"
     ]
    }
   ],
   "source": [
    "# Import mean_squared_error from sklearn.metrics as MSE \n",
    "from sklearn.metrics import mean_squared_error as MSE, r2_score\n",
    "\n",
    "# Extract the best estimator\n",
    "best_model = rs.best_estimator_\n",
    "\n",
    "# Predict test set labels\n",
    "y_pred = best_model.predict(X_test)\n",
    "\n",
    "# Compute mean squared error\n",
    "mse = mean_squared_error(y_test, y_pred)\n",
    "# Compute root mean squared error\n",
    "rmse = MSE(y_test, y_pred)**(1/2)\n",
    "# Compute R^2\n",
    "r2 = r2_score(y_test,y_pred)\n",
    "# Print rmse_test\n",
    "print(best_model)\n",
    "print('MSE of best model: ', round(mse,2)) \n",
    "print('RMSE of best model: ', round(rmse,2)) \n",
    "print('R^2 of best model: ', round(r2,2)) "
   ]
  },
  {
   "cell_type": "markdown",
   "metadata": {},
   "source": [
    "The best model found using randomized grid search used mean-squared error as its scorer to determine the following parameters:\n",
    "n_ estimators: 100\n",
    "\n",
    "max_depth: 2\n",
    "\n",
    "max_features: 2\n",
    "\n",
    "min_samples_split: 16.\n",
    "\n",
    "The MSE of the best model was found to be 3,882,138.77.  Since the random forest was used for regression, the accuracy metric is R^2 and it was 0.18.  The low R^2 means that the relationship between predictor and target variables is not linear.  RMSE can be thought of as how much, on average the model's predictions differ from actual test values.  (Datacamp).  The range of Bandwidth_GB_Year is about 7,000, so the predictions differ by about 28% on average.  The RMSE is also less than the standard deviation, so the model predicts better than random variations from the mean.  "
   ]
  },
  {
   "cell_type": "code",
   "execution_count": 61,
   "metadata": {},
   "outputs": [
    {
     "data": {
      "text/plain": [
       "count    10000.000000\n",
       "mean      3392.341550\n",
       "std       2185.294852\n",
       "min        155.506715\n",
       "25%       1236.470827\n",
       "50%       3279.536903\n",
       "75%       5586.141369\n",
       "max       7158.981530\n",
       "Name: Bandwidth_GB_Year, dtype: float64"
      ]
     },
     "execution_count": 61,
     "metadata": {},
     "output_type": "execute_result"
    }
   ],
   "source": [
    "rf_df['Bandwidth_GB_Year'].describe()"
   ]
  },
  {
   "cell_type": "markdown",
   "metadata": {},
   "source": [
    "### Performance and Results"
   ]
  },
  {
   "cell_type": "code",
   "execution_count": 157,
   "metadata": {},
   "outputs": [
    {
     "data": {
      "image/png": "[encoded data removed]",
      "text/plain": [
       "<Figure size 432x288 with 1 Axes>"
      ]
     },
     "metadata": {
      "needs_background": "light"
     },
     "output_type": "display_data"
    }
   ],
   "source": [
    "#plotting feature importances\n",
    "import matplotlib.pyplot as plt\n",
    "\n",
    "# Create a pd.Series of features importances\n",
    "importances = pd.Series(data=best_model.feature_importances_,\n",
    "                        index= X_train.columns)\n",
    "\n",
    "# Sort importances\n",
    "importances_sorted = importances.sort_values()\n",
    "\n",
    "# Draw a horizontal barplot of importances_sorted\n",
    "importances_sorted.plot(kind='barh', color='green')\n",
    "plt.yticks(fontsize = 7)\n",
    "plt.title('Features Importances')\n",
    "plt.show()"
   ]
  },
  {
   "cell_type": "markdown",
   "metadata": {},
   "source": [
    "The importance of features can be extracted from tree and forest models.  The most important feature is Tenure.  To an increasingly lesser extent MonthlyCharge, InternetServie, OnlineBackup and Population follow in the top 5.  Port_modem, Phone, Multiple, DeviceProtection and Item7 contribute the least in the model's predictions.  \n",
    "\n",
    "It seems obvious that internet service would rank high, since a customer needs it in order to use bandwidth.  Higher internet speeds generally cost more, so it also makes sense that MonthlyCharge ranks so high. It would seem that one's view of their technical knowledge would influence bandwidth use, but this model ranks the Techie feature rather low.  What these importance rankings do not indicate is whether those who select yes for Techie use higher bandwidth.  A more detailed look at the actual predictions for this value would need to be looked to answer that question.  "
   ]
  },
  {
   "cell_type": "markdown",
   "metadata": {},
   "source": [
    "### Limitations"
   ]
  },
  {
   "cell_type": "markdown",
   "metadata": {},
   "source": [
    "The four hyperparameters used in model optimization were chosen because they made the most sense to me, but there are many others that could have been used.  Also, different values for those that were used could be tried.  Grid search optimization goes through all possible combinations of parameter values indicated, so it may have produced a better model than random search.  These are just a few ideas on how MSE and RMSE might be reduced, regardless of linearity.  "
   ]
  },
  {
   "cell_type": "markdown",
   "metadata": {},
   "source": [
    "### Course of Action"
   ]
  },
  {
   "cell_type": "markdown",
   "metadata": {},
   "source": [
    "Since Tenure has such a high influence on predicting bandwidth usage special offers for higher speeds could be targeted to customers who have held their services longer.  More marketing efforts to promote online backup services also seems highly likely to influence bandwidth use.  The same can be said for movie streaming services, since it ranks relatively high as well.  Out of the 8 survey items, Item5 ranks highest.  This item ranks how much a customer values having options.  Perhaps a more diverse offering of bandwidth speeds with bundling video and voice could make for happier customers as this provides more options.  However, Multiple ranked pretty low, so other options should be explored.   \n",
    "\n",
    "Payment and contract options are also ranked low, so these offerings can probably be left alone when it comes to marketing efforts to influence bandwidth use.  The same can be said for phone and port modem users.  Item7 rates how important a customer deems a curteous exhange.  This might take some pressure off of call center representatives efforts during bandwidth related interactions. Not that it is advisable to be uncurteous, but maybe those hard working people can be allowed to relax and be a little more true to themselves in those instances."
   ]
  },
  {
   "cell_type": "markdown",
   "metadata": {},
   "source": [
    "<><><><><><><><><><><><><><><><><><><><><><><><><><><><><><><><><><><><><>"
   ]
  },
  {
   "cell_type": "markdown",
   "metadata": {},
   "source": [
    "Saving training and testing sets."
   ]
  },
  {
   "cell_type": "code",
   "execution_count": 158,
   "metadata": {},
   "outputs": [],
   "source": [
    "# need to convert the y series to dataframes\n",
    "y_train_df = pd.DataFrame(data=y_train, columns = ['Bandwidth_GB_Year'])\n",
    "y_test_df = pd.DataFrame(data=y_test, columns = ['Bandwidth_GB_Year'])"
   ]
  },
  {
   "cell_type": "code",
   "execution_count": 159,
   "metadata": {},
   "outputs": [],
   "source": [
    "# combine training and testing df's\n",
    "train_df = pd.merge(y_train_df, X_train, left_index=True, right_index=True)\n",
    "test_df = pd.merge(y_test_df, X_test, left_index=True, right_index=True)"
   ]
  },
  {
   "cell_type": "code",
   "execution_count": 160,
   "metadata": {},
   "outputs": [],
   "source": [
    "# write train and test df's to Excel files\n",
    "train_df.to_excel('C:/Users/maxgs/MSDA/D209/Task2/train.xlsx')\n",
    "test_df.to_excel('C:/Users/maxgs/MSDA/D209/Task2/test.xlsx')"
   ]
  },
  {
   "cell_type": "markdown",
   "metadata": {},
   "source": [
    "## Reference List"
   ]
  },
  {
   "cell_type": "markdown",
   "metadata": {},
   "source": [
    "Li, Lorraine.  May 15, 2019.  Classification and Regression Analysis with Decision Trees.  Towards Data Science.  https://towardsdatascience.com/https-medium-com-lorrli-classification-and-regression-analysis-with-decision-trees-c43cdbc58054\n",
    "\n",
    "Guruchan, M K. Jul 14, 2020. Machine Learning Basics: Decision Tree Regression. https://towardsdatascience.com/machine-learning-basics-decision-tree-regression-1d73ea003fda\n",
    "\n",
    "sklearn.ensemble.RandomForestClassifier. (2007-2021). scikit-learn.org. Rerieved January 21, 2022, from https://scikit-learn.org/stable/modules/generated/sklearn.ensemble.RandomForestClassifier.html\n",
    "\n",
    "Ravi, Rakesh.  Jan 11, 2019.  One-Hot Encoding is making your Tree-Based Ensembles worse, here's why?  Towards Data Science.  https://towardsdatascience.com/one-hot-encoding-is-making-your-tree-based-ensembles-worse-heres-why-d64b282b5769\n",
    "\n",
    "Datacamp. (n.d.). Supervised Learning with scikit-learn. "
   ]
  }
 ],
 "metadata": {
  "kernelspec": {
   "display_name": "Python 3",
   "language": "python",
   "name": "python3"
  },
  "language_info": {
   "codemirror_mode": {
    "name": "ipython",
    "version": 3
   },
   "file_extension": ".py",
   "mimetype": "text/x-python",
   "name": "python",
   "nbconvert_exporter": "python",
   "pygments_lexer": "ipython3",
   "version": "3.6.8"
  }
 },
 "nbformat": 4,
 "nbformat_minor": 2
}
